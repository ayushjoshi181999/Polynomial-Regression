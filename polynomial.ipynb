{
 "cells": [
  {
   "cell_type": "markdown",
   "metadata": {},
   "source": [
    "Google collab link:\n",
    "https://colab.research.google.com/drive/1uqlJkgLCs1Inn9w1UagLdPYTYlMkMw-K?usp=sharing"
   ]
  },
  {
   "cell_type": "markdown",
   "metadata": {
    "colab_type": "text",
    "id": "eLuCsv7eieXm"
   },
   "source": [
    "# **Import Libraries**"
   ]
  },
  {
   "cell_type": "code",
   "execution_count": 1,
   "metadata": {
    "colab": {
     "base_uri": "https://localhost:8080/",
     "height": 70
    },
    "colab_type": "code",
    "id": "zqp9THbsgV45",
    "outputId": "231c1d7a-0dd8-4fbb-fe3d-e1ad96d915e5"
   },
   "outputs": [
    {
     "name": "stderr",
     "output_type": "stream",
     "text": [
      "/usr/local/lib/python3.6/dist-packages/statsmodels/tools/_testing.py:19: FutureWarning: pandas.util.testing is deprecated. Use the functions in the public API at pandas.testing instead.\n",
      "  import pandas.util.testing as tm\n"
     ]
    }
   ],
   "source": [
    "import numpy as np\n",
    "import pandas as pd\n",
    "import seaborn as sns\n",
    "import matplotlib.pyplot as plt"
   ]
  },
  {
   "cell_type": "markdown",
   "metadata": {
    "colab_type": "text",
    "id": "QsldXfq1pVIz"
   },
   "source": [
    "# **Importing Train and Test Dataset**"
   ]
  },
  {
   "cell_type": "code",
   "execution_count": 2,
   "metadata": {
    "colab": {
     "base_uri": "https://localhost:8080/",
     "height": 304
    },
    "colab_type": "code",
    "id": "E7ZOU3U3pVz2",
    "outputId": "e45ab3d9-6590-4260-d902-248049532637"
   },
   "outputs": [
    {
     "data": {
      "text/html": [
       "<div>\n",
       "<style scoped>\n",
       "    .dataframe tbody tr th:only-of-type {\n",
       "        vertical-align: middle;\n",
       "    }\n",
       "\n",
       "    .dataframe tbody tr th {\n",
       "        vertical-align: top;\n",
       "    }\n",
       "\n",
       "    .dataframe thead th {\n",
       "        text-align: right;\n",
       "    }\n",
       "</style>\n",
       "<table border=\"1\" class=\"dataframe\">\n",
       "  <thead>\n",
       "    <tr style=\"text-align: right;\">\n",
       "      <th></th>\n",
       "      <th>id</th>\n",
       "      <th>price</th>\n",
       "      <th>bedrooms</th>\n",
       "      <th>bathrooms</th>\n",
       "      <th>sqft_living</th>\n",
       "      <th>sqft_lot</th>\n",
       "      <th>floors</th>\n",
       "      <th>waterfront</th>\n",
       "      <th>view</th>\n",
       "      <th>condition</th>\n",
       "      <th>grade</th>\n",
       "      <th>sqft_above</th>\n",
       "      <th>sqft_basement</th>\n",
       "      <th>yr_built</th>\n",
       "      <th>yr_renovated</th>\n",
       "      <th>zipcode</th>\n",
       "      <th>lat</th>\n",
       "      <th>long</th>\n",
       "      <th>sqft_living15</th>\n",
       "      <th>sqft_lot15</th>\n",
       "    </tr>\n",
       "  </thead>\n",
       "  <tbody>\n",
       "    <tr>\n",
       "      <th>count</th>\n",
       "      <td>9.761000e+03</td>\n",
       "      <td>9.761000e+03</td>\n",
       "      <td>9761.000000</td>\n",
       "      <td>9761.000000</td>\n",
       "      <td>9761.000000</td>\n",
       "      <td>9.761000e+03</td>\n",
       "      <td>9761.000000</td>\n",
       "      <td>9761.000000</td>\n",
       "      <td>9761.000000</td>\n",
       "      <td>9761.000000</td>\n",
       "      <td>9761.00000</td>\n",
       "      <td>9761.000000</td>\n",
       "      <td>9761.000000</td>\n",
       "      <td>9761.000000</td>\n",
       "      <td>9761.000000</td>\n",
       "      <td>9761.000000</td>\n",
       "      <td>9761.000000</td>\n",
       "      <td>9761.000000</td>\n",
       "      <td>9761.000000</td>\n",
       "      <td>9761.000000</td>\n",
       "    </tr>\n",
       "    <tr>\n",
       "      <th>mean</th>\n",
       "      <td>4.605288e+09</td>\n",
       "      <td>5.428336e+05</td>\n",
       "      <td>3.375884</td>\n",
       "      <td>2.117175</td>\n",
       "      <td>2086.734146</td>\n",
       "      <td>1.521526e+04</td>\n",
       "      <td>1.486067</td>\n",
       "      <td>0.008401</td>\n",
       "      <td>0.248028</td>\n",
       "      <td>3.415531</td>\n",
       "      <td>7.66151</td>\n",
       "      <td>1793.291159</td>\n",
       "      <td>293.442987</td>\n",
       "      <td>1970.799508</td>\n",
       "      <td>86.066592</td>\n",
       "      <td>98077.790185</td>\n",
       "      <td>47.560052</td>\n",
       "      <td>-122.214322</td>\n",
       "      <td>1992.359697</td>\n",
       "      <td>12824.785165</td>\n",
       "    </tr>\n",
       "    <tr>\n",
       "      <th>std</th>\n",
       "      <td>2.876044e+09</td>\n",
       "      <td>3.797779e+05</td>\n",
       "      <td>0.960697</td>\n",
       "      <td>0.773971</td>\n",
       "      <td>927.194303</td>\n",
       "      <td>4.126673e+04</td>\n",
       "      <td>0.532317</td>\n",
       "      <td>0.091275</td>\n",
       "      <td>0.787877</td>\n",
       "      <td>0.650552</td>\n",
       "      <td>1.18268</td>\n",
       "      <td>835.763817</td>\n",
       "      <td>442.612722</td>\n",
       "      <td>29.240009</td>\n",
       "      <td>405.417369</td>\n",
       "      <td>53.203594</td>\n",
       "      <td>0.140236</td>\n",
       "      <td>0.139895</td>\n",
       "      <td>687.322247</td>\n",
       "      <td>26518.337402</td>\n",
       "    </tr>\n",
       "    <tr>\n",
       "      <th>min</th>\n",
       "      <td>1.200019e+06</td>\n",
       "      <td>8.000000e+04</td>\n",
       "      <td>0.000000</td>\n",
       "      <td>0.000000</td>\n",
       "      <td>290.000000</td>\n",
       "      <td>5.200000e+02</td>\n",
       "      <td>1.000000</td>\n",
       "      <td>0.000000</td>\n",
       "      <td>0.000000</td>\n",
       "      <td>1.000000</td>\n",
       "      <td>1.00000</td>\n",
       "      <td>290.000000</td>\n",
       "      <td>0.000000</td>\n",
       "      <td>1900.000000</td>\n",
       "      <td>0.000000</td>\n",
       "      <td>98001.000000</td>\n",
       "      <td>47.155900</td>\n",
       "      <td>-122.514000</td>\n",
       "      <td>620.000000</td>\n",
       "      <td>660.000000</td>\n",
       "    </tr>\n",
       "    <tr>\n",
       "      <th>25%</th>\n",
       "      <td>2.126049e+09</td>\n",
       "      <td>3.200000e+05</td>\n",
       "      <td>3.000000</td>\n",
       "      <td>1.750000</td>\n",
       "      <td>1420.000000</td>\n",
       "      <td>5.100000e+03</td>\n",
       "      <td>1.000000</td>\n",
       "      <td>0.000000</td>\n",
       "      <td>0.000000</td>\n",
       "      <td>3.000000</td>\n",
       "      <td>7.00000</td>\n",
       "      <td>1190.000000</td>\n",
       "      <td>0.000000</td>\n",
       "      <td>1951.000000</td>\n",
       "      <td>0.000000</td>\n",
       "      <td>98033.000000</td>\n",
       "      <td>47.467800</td>\n",
       "      <td>-122.327000</td>\n",
       "      <td>1490.000000</td>\n",
       "      <td>5160.000000</td>\n",
       "    </tr>\n",
       "    <tr>\n",
       "      <th>50%</th>\n",
       "      <td>3.905041e+09</td>\n",
       "      <td>4.500000e+05</td>\n",
       "      <td>3.000000</td>\n",
       "      <td>2.250000</td>\n",
       "      <td>1910.000000</td>\n",
       "      <td>7.642000e+03</td>\n",
       "      <td>1.500000</td>\n",
       "      <td>0.000000</td>\n",
       "      <td>0.000000</td>\n",
       "      <td>3.000000</td>\n",
       "      <td>7.00000</td>\n",
       "      <td>1570.000000</td>\n",
       "      <td>0.000000</td>\n",
       "      <td>1975.000000</td>\n",
       "      <td>0.000000</td>\n",
       "      <td>98065.000000</td>\n",
       "      <td>47.572200</td>\n",
       "      <td>-122.229000</td>\n",
       "      <td>1840.000000</td>\n",
       "      <td>7660.000000</td>\n",
       "    </tr>\n",
       "    <tr>\n",
       "      <th>75%</th>\n",
       "      <td>7.338403e+09</td>\n",
       "      <td>6.490000e+05</td>\n",
       "      <td>4.000000</td>\n",
       "      <td>2.500000</td>\n",
       "      <td>2570.000000</td>\n",
       "      <td>1.066000e+04</td>\n",
       "      <td>2.000000</td>\n",
       "      <td>0.000000</td>\n",
       "      <td>0.000000</td>\n",
       "      <td>4.000000</td>\n",
       "      <td>8.00000</td>\n",
       "      <td>2230.000000</td>\n",
       "      <td>570.000000</td>\n",
       "      <td>1996.000000</td>\n",
       "      <td>0.000000</td>\n",
       "      <td>98117.000000</td>\n",
       "      <td>47.680400</td>\n",
       "      <td>-122.126000</td>\n",
       "      <td>2370.000000</td>\n",
       "      <td>10113.000000</td>\n",
       "    </tr>\n",
       "    <tr>\n",
       "      <th>max</th>\n",
       "      <td>9.900000e+09</td>\n",
       "      <td>7.700000e+06</td>\n",
       "      <td>33.000000</td>\n",
       "      <td>8.000000</td>\n",
       "      <td>12050.000000</td>\n",
       "      <td>1.651359e+06</td>\n",
       "      <td>3.500000</td>\n",
       "      <td>1.000000</td>\n",
       "      <td>4.000000</td>\n",
       "      <td>5.000000</td>\n",
       "      <td>13.00000</td>\n",
       "      <td>8860.000000</td>\n",
       "      <td>3480.000000</td>\n",
       "      <td>2015.000000</td>\n",
       "      <td>2015.000000</td>\n",
       "      <td>98199.000000</td>\n",
       "      <td>47.777600</td>\n",
       "      <td>-121.319000</td>\n",
       "      <td>5790.000000</td>\n",
       "      <td>560617.000000</td>\n",
       "    </tr>\n",
       "  </tbody>\n",
       "</table>\n",
       "</div>"
      ],
      "text/plain": [
       "                 id         price  ...  sqft_living15     sqft_lot15\n",
       "count  9.761000e+03  9.761000e+03  ...    9761.000000    9761.000000\n",
       "mean   4.605288e+09  5.428336e+05  ...    1992.359697   12824.785165\n",
       "std    2.876044e+09  3.797779e+05  ...     687.322247   26518.337402\n",
       "min    1.200019e+06  8.000000e+04  ...     620.000000     660.000000\n",
       "25%    2.126049e+09  3.200000e+05  ...    1490.000000    5160.000000\n",
       "50%    3.905041e+09  4.500000e+05  ...    1840.000000    7660.000000\n",
       "75%    7.338403e+09  6.490000e+05  ...    2370.000000   10113.000000\n",
       "max    9.900000e+09  7.700000e+06  ...    5790.000000  560617.000000\n",
       "\n",
       "[8 rows x 20 columns]"
      ]
     },
     "execution_count": 2,
     "metadata": {
      "tags": []
     },
     "output_type": "execute_result"
    }
   ],
   "source": [
    "dataframe_train = pd.read_csv('train.csv').drop(['date'],axis=1)\n",
    "dataframe_test = pd.read_csv('test.csv').drop(['date'],axis=1)\n",
    "dataframe_train.describe()"
   ]
  },
  {
   "cell_type": "markdown",
   "metadata": {
    "colab_type": "text",
    "id": "4fMtItwvysZl"
   },
   "source": [
    "# **Corelation Matrix**\n",
    "Correlation Matrix is basically a covariance matrix.  It is a matrix in which i-j position defines the correlation between the ith and jth parameter of the given data-set.\n",
    "Correlation summarizes the strength and direction of the linear (straight-line) association between two quantitative variables. Denoted by r, it takes values between -1 and +1. A positive value for r indicates a positive association, and a negative value for r indicates a negative association.\n",
    "The closer r is to 1 the closer the data points fall to a straight line, thus, the linear association is stronger. The closer r is to 0, making the linear association weaker."
   ]
  },
  {
   "cell_type": "code",
   "execution_count": 3,
   "metadata": {
    "colab": {
     "base_uri": "https://localhost:8080/",
     "height": 659
    },
    "colab_type": "code",
    "id": "tglABEjHpuW5",
    "outputId": "7f1d290f-14f4-4c37-e48e-2a0522a1695a"
   },
   "outputs": [
    {
     "data": {
      "text/html": [
       "<div>\n",
       "<style scoped>\n",
       "    .dataframe tbody tr th:only-of-type {\n",
       "        vertical-align: middle;\n",
       "    }\n",
       "\n",
       "    .dataframe tbody tr th {\n",
       "        vertical-align: top;\n",
       "    }\n",
       "\n",
       "    .dataframe thead th {\n",
       "        text-align: right;\n",
       "    }\n",
       "</style>\n",
       "<table border=\"1\" class=\"dataframe\">\n",
       "  <thead>\n",
       "    <tr style=\"text-align: right;\">\n",
       "      <th></th>\n",
       "      <th>id</th>\n",
       "      <th>price</th>\n",
       "      <th>bedrooms</th>\n",
       "      <th>bathrooms</th>\n",
       "      <th>sqft_living</th>\n",
       "      <th>sqft_lot</th>\n",
       "      <th>floors</th>\n",
       "      <th>waterfront</th>\n",
       "      <th>view</th>\n",
       "      <th>condition</th>\n",
       "      <th>grade</th>\n",
       "      <th>sqft_above</th>\n",
       "      <th>sqft_basement</th>\n",
       "      <th>yr_built</th>\n",
       "      <th>yr_renovated</th>\n",
       "      <th>zipcode</th>\n",
       "      <th>lat</th>\n",
       "      <th>long</th>\n",
       "      <th>sqft_living15</th>\n",
       "      <th>sqft_lot15</th>\n",
       "    </tr>\n",
       "  </thead>\n",
       "  <tbody>\n",
       "    <tr>\n",
       "      <th>id</th>\n",
       "      <td>1.000000</td>\n",
       "      <td>-0.006011</td>\n",
       "      <td>-0.002571</td>\n",
       "      <td>0.005821</td>\n",
       "      <td>-0.007559</td>\n",
       "      <td>-0.130303</td>\n",
       "      <td>0.007793</td>\n",
       "      <td>0.000834</td>\n",
       "      <td>0.023355</td>\n",
       "      <td>-0.015321</td>\n",
       "      <td>0.012491</td>\n",
       "      <td>-0.006447</td>\n",
       "      <td>-0.003660</td>\n",
       "      <td>0.027053</td>\n",
       "      <td>-0.024900</td>\n",
       "      <td>-0.012130</td>\n",
       "      <td>0.009167</td>\n",
       "      <td>0.034395</td>\n",
       "      <td>-0.001315</td>\n",
       "      <td>-0.137562</td>\n",
       "    </tr>\n",
       "    <tr>\n",
       "      <th>price</th>\n",
       "      <td>-0.006011</td>\n",
       "      <td>1.000000</td>\n",
       "      <td>0.300777</td>\n",
       "      <td>0.527512</td>\n",
       "      <td>0.705044</td>\n",
       "      <td>0.094146</td>\n",
       "      <td>0.262955</td>\n",
       "      <td>0.274953</td>\n",
       "      <td>0.399711</td>\n",
       "      <td>0.044754</td>\n",
       "      <td>0.665594</td>\n",
       "      <td>0.611450</td>\n",
       "      <td>0.322369</td>\n",
       "      <td>0.051737</td>\n",
       "      <td>0.120439</td>\n",
       "      <td>-0.055619</td>\n",
       "      <td>0.299191</td>\n",
       "      <td>0.023718</td>\n",
       "      <td>0.584829</td>\n",
       "      <td>0.077960</td>\n",
       "    </tr>\n",
       "    <tr>\n",
       "      <th>bedrooms</th>\n",
       "      <td>-0.002571</td>\n",
       "      <td>0.300777</td>\n",
       "      <td>1.000000</td>\n",
       "      <td>0.506070</td>\n",
       "      <td>0.560989</td>\n",
       "      <td>0.028895</td>\n",
       "      <td>0.181042</td>\n",
       "      <td>-0.006803</td>\n",
       "      <td>0.079863</td>\n",
       "      <td>0.036135</td>\n",
       "      <td>0.342305</td>\n",
       "      <td>0.462514</td>\n",
       "      <td>0.301829</td>\n",
       "      <td>0.155102</td>\n",
       "      <td>0.018625</td>\n",
       "      <td>-0.148339</td>\n",
       "      <td>-0.010547</td>\n",
       "      <td>0.117168</td>\n",
       "      <td>0.376457</td>\n",
       "      <td>0.018149</td>\n",
       "    </tr>\n",
       "    <tr>\n",
       "      <th>bathrooms</th>\n",
       "      <td>0.005821</td>\n",
       "      <td>0.527512</td>\n",
       "      <td>0.506070</td>\n",
       "      <td>1.000000</td>\n",
       "      <td>0.758930</td>\n",
       "      <td>0.079435</td>\n",
       "      <td>0.501899</td>\n",
       "      <td>0.061483</td>\n",
       "      <td>0.182988</td>\n",
       "      <td>-0.115382</td>\n",
       "      <td>0.660925</td>\n",
       "      <td>0.692911</td>\n",
       "      <td>0.281433</td>\n",
       "      <td>0.499589</td>\n",
       "      <td>0.044756</td>\n",
       "      <td>-0.201454</td>\n",
       "      <td>0.018453</td>\n",
       "      <td>0.217697</td>\n",
       "      <td>0.566076</td>\n",
       "      <td>0.068722</td>\n",
       "    </tr>\n",
       "    <tr>\n",
       "      <th>sqft_living</th>\n",
       "      <td>-0.007559</td>\n",
       "      <td>0.705044</td>\n",
       "      <td>0.560989</td>\n",
       "      <td>0.758930</td>\n",
       "      <td>1.000000</td>\n",
       "      <td>0.162786</td>\n",
       "      <td>0.366219</td>\n",
       "      <td>0.097203</td>\n",
       "      <td>0.285735</td>\n",
       "      <td>-0.047938</td>\n",
       "      <td>0.764819</td>\n",
       "      <td>0.878989</td>\n",
       "      <td>0.435069</td>\n",
       "      <td>0.322723</td>\n",
       "      <td>0.043627</td>\n",
       "      <td>-0.203761</td>\n",
       "      <td>0.054830</td>\n",
       "      <td>0.240170</td>\n",
       "      <td>0.758081</td>\n",
       "      <td>0.163545</td>\n",
       "    </tr>\n",
       "    <tr>\n",
       "      <th>sqft_lot</th>\n",
       "      <td>-0.130303</td>\n",
       "      <td>0.094146</td>\n",
       "      <td>0.028895</td>\n",
       "      <td>0.079435</td>\n",
       "      <td>0.162786</td>\n",
       "      <td>1.000000</td>\n",
       "      <td>-0.003543</td>\n",
       "      <td>0.029420</td>\n",
       "      <td>0.099221</td>\n",
       "      <td>-0.008722</td>\n",
       "      <td>0.115611</td>\n",
       "      <td>0.180913</td>\n",
       "      <td>-0.000601</td>\n",
       "      <td>0.054043</td>\n",
       "      <td>0.001219</td>\n",
       "      <td>-0.126091</td>\n",
       "      <td>-0.092245</td>\n",
       "      <td>0.224524</td>\n",
       "      <td>0.145285</td>\n",
       "      <td>0.719922</td>\n",
       "    </tr>\n",
       "    <tr>\n",
       "      <th>floors</th>\n",
       "      <td>0.007793</td>\n",
       "      <td>0.262955</td>\n",
       "      <td>0.181042</td>\n",
       "      <td>0.501899</td>\n",
       "      <td>0.366219</td>\n",
       "      <td>-0.003543</td>\n",
       "      <td>1.000000</td>\n",
       "      <td>0.022443</td>\n",
       "      <td>0.031938</td>\n",
       "      <td>-0.265390</td>\n",
       "      <td>0.461545</td>\n",
       "      <td>0.534801</td>\n",
       "      <td>-0.242675</td>\n",
       "      <td>0.481926</td>\n",
       "      <td>0.013655</td>\n",
       "      <td>-0.064479</td>\n",
       "      <td>0.044827</td>\n",
       "      <td>0.134683</td>\n",
       "      <td>0.289238</td>\n",
       "      <td>-0.013269</td>\n",
       "    </tr>\n",
       "    <tr>\n",
       "      <th>waterfront</th>\n",
       "      <td>0.000834</td>\n",
       "      <td>0.274953</td>\n",
       "      <td>-0.006803</td>\n",
       "      <td>0.061483</td>\n",
       "      <td>0.097203</td>\n",
       "      <td>0.029420</td>\n",
       "      <td>0.022443</td>\n",
       "      <td>1.000000</td>\n",
       "      <td>0.402725</td>\n",
       "      <td>0.024030</td>\n",
       "      <td>0.088039</td>\n",
       "      <td>0.064297</td>\n",
       "      <td>0.082214</td>\n",
       "      <td>-0.027010</td>\n",
       "      <td>0.101684</td>\n",
       "      <td>0.023656</td>\n",
       "      <td>-0.009410</td>\n",
       "      <td>-0.039227</td>\n",
       "      <td>0.097196</td>\n",
       "      <td>0.028499</td>\n",
       "    </tr>\n",
       "    <tr>\n",
       "      <th>view</th>\n",
       "      <td>0.023355</td>\n",
       "      <td>0.399711</td>\n",
       "      <td>0.079863</td>\n",
       "      <td>0.182988</td>\n",
       "      <td>0.285735</td>\n",
       "      <td>0.099221</td>\n",
       "      <td>0.031938</td>\n",
       "      <td>0.402725</td>\n",
       "      <td>1.000000</td>\n",
       "      <td>0.059969</td>\n",
       "      <td>0.258123</td>\n",
       "      <td>0.170286</td>\n",
       "      <td>0.277021</td>\n",
       "      <td>-0.056361</td>\n",
       "      <td>0.109750</td>\n",
       "      <td>0.075834</td>\n",
       "      <td>0.005503</td>\n",
       "      <td>-0.074630</td>\n",
       "      <td>0.292435</td>\n",
       "      <td>0.079904</td>\n",
       "    </tr>\n",
       "    <tr>\n",
       "      <th>condition</th>\n",
       "      <td>-0.015321</td>\n",
       "      <td>0.044754</td>\n",
       "      <td>0.036135</td>\n",
       "      <td>-0.115382</td>\n",
       "      <td>-0.047938</td>\n",
       "      <td>-0.008722</td>\n",
       "      <td>-0.265390</td>\n",
       "      <td>0.024030</td>\n",
       "      <td>0.059969</td>\n",
       "      <td>1.000000</td>\n",
       "      <td>-0.133313</td>\n",
       "      <td>-0.153713</td>\n",
       "      <td>0.189828</td>\n",
       "      <td>-0.357396</td>\n",
       "      <td>-0.055525</td>\n",
       "      <td>0.003410</td>\n",
       "      <td>-0.017622</td>\n",
       "      <td>-0.106514</td>\n",
       "      <td>-0.080423</td>\n",
       "      <td>0.002253</td>\n",
       "    </tr>\n",
       "    <tr>\n",
       "      <th>grade</th>\n",
       "      <td>0.012491</td>\n",
       "      <td>0.665594</td>\n",
       "      <td>0.342305</td>\n",
       "      <td>0.660925</td>\n",
       "      <td>0.764819</td>\n",
       "      <td>0.115611</td>\n",
       "      <td>0.461545</td>\n",
       "      <td>0.088039</td>\n",
       "      <td>0.258123</td>\n",
       "      <td>-0.133313</td>\n",
       "      <td>1.000000</td>\n",
       "      <td>0.756226</td>\n",
       "      <td>0.174216</td>\n",
       "      <td>0.447817</td>\n",
       "      <td>0.013053</td>\n",
       "      <td>-0.187340</td>\n",
       "      <td>0.107977</td>\n",
       "      <td>0.201114</td>\n",
       "      <td>0.717835</td>\n",
       "      <td>0.118618</td>\n",
       "    </tr>\n",
       "    <tr>\n",
       "      <th>sqft_above</th>\n",
       "      <td>-0.006447</td>\n",
       "      <td>0.611450</td>\n",
       "      <td>0.462514</td>\n",
       "      <td>0.692911</td>\n",
       "      <td>0.878989</td>\n",
       "      <td>0.180913</td>\n",
       "      <td>0.534801</td>\n",
       "      <td>0.064297</td>\n",
       "      <td>0.170286</td>\n",
       "      <td>-0.153713</td>\n",
       "      <td>0.756226</td>\n",
       "      <td>1.000000</td>\n",
       "      <td>-0.046926</td>\n",
       "      <td>0.426642</td>\n",
       "      <td>0.014654</td>\n",
       "      <td>-0.264223</td>\n",
       "      <td>0.002797</td>\n",
       "      <td>0.343715</td>\n",
       "      <td>0.726505</td>\n",
       "      <td>0.185507</td>\n",
       "    </tr>\n",
       "    <tr>\n",
       "      <th>sqft_basement</th>\n",
       "      <td>-0.003660</td>\n",
       "      <td>0.322369</td>\n",
       "      <td>0.301829</td>\n",
       "      <td>0.281433</td>\n",
       "      <td>0.435069</td>\n",
       "      <td>-0.000601</td>\n",
       "      <td>-0.242675</td>\n",
       "      <td>0.082214</td>\n",
       "      <td>0.277021</td>\n",
       "      <td>0.189828</td>\n",
       "      <td>0.174216</td>\n",
       "      <td>-0.046926</td>\n",
       "      <td>1.000000</td>\n",
       "      <td>-0.129559</td>\n",
       "      <td>0.063719</td>\n",
       "      <td>0.072077</td>\n",
       "      <td>0.109578</td>\n",
       "      <td>-0.145909</td>\n",
       "      <td>0.216220</td>\n",
       "      <td>-0.007685</td>\n",
       "    </tr>\n",
       "    <tr>\n",
       "      <th>yr_built</th>\n",
       "      <td>0.027053</td>\n",
       "      <td>0.051737</td>\n",
       "      <td>0.155102</td>\n",
       "      <td>0.499589</td>\n",
       "      <td>0.322723</td>\n",
       "      <td>0.054043</td>\n",
       "      <td>0.481926</td>\n",
       "      <td>-0.027010</td>\n",
       "      <td>-0.056361</td>\n",
       "      <td>-0.357396</td>\n",
       "      <td>0.447817</td>\n",
       "      <td>0.426642</td>\n",
       "      <td>-0.129559</td>\n",
       "      <td>1.000000</td>\n",
       "      <td>-0.228349</td>\n",
       "      <td>-0.353613</td>\n",
       "      <td>-0.157480</td>\n",
       "      <td>0.410001</td>\n",
       "      <td>0.326390</td>\n",
       "      <td>0.072152</td>\n",
       "    </tr>\n",
       "    <tr>\n",
       "      <th>yr_renovated</th>\n",
       "      <td>-0.024900</td>\n",
       "      <td>0.120439</td>\n",
       "      <td>0.018625</td>\n",
       "      <td>0.044756</td>\n",
       "      <td>0.043627</td>\n",
       "      <td>0.001219</td>\n",
       "      <td>0.013655</td>\n",
       "      <td>0.101684</td>\n",
       "      <td>0.109750</td>\n",
       "      <td>-0.055525</td>\n",
       "      <td>0.013053</td>\n",
       "      <td>0.014654</td>\n",
       "      <td>0.063719</td>\n",
       "      <td>-0.228349</td>\n",
       "      <td>1.000000</td>\n",
       "      <td>0.066908</td>\n",
       "      <td>0.035174</td>\n",
       "      <td>-0.073070</td>\n",
       "      <td>-0.003618</td>\n",
       "      <td>-0.007260</td>\n",
       "    </tr>\n",
       "    <tr>\n",
       "      <th>zipcode</th>\n",
       "      <td>-0.012130</td>\n",
       "      <td>-0.055619</td>\n",
       "      <td>-0.148339</td>\n",
       "      <td>-0.201454</td>\n",
       "      <td>-0.203761</td>\n",
       "      <td>-0.126091</td>\n",
       "      <td>-0.064479</td>\n",
       "      <td>0.023656</td>\n",
       "      <td>0.075834</td>\n",
       "      <td>0.003410</td>\n",
       "      <td>-0.187340</td>\n",
       "      <td>-0.264223</td>\n",
       "      <td>0.072077</td>\n",
       "      <td>-0.353613</td>\n",
       "      <td>0.066908</td>\n",
       "      <td>1.000000</td>\n",
       "      <td>0.271886</td>\n",
       "      <td>-0.560433</td>\n",
       "      <td>-0.279658</td>\n",
       "      <td>-0.142375</td>\n",
       "    </tr>\n",
       "    <tr>\n",
       "      <th>lat</th>\n",
       "      <td>0.009167</td>\n",
       "      <td>0.299191</td>\n",
       "      <td>-0.010547</td>\n",
       "      <td>0.018453</td>\n",
       "      <td>0.054830</td>\n",
       "      <td>-0.092245</td>\n",
       "      <td>0.044827</td>\n",
       "      <td>-0.009410</td>\n",
       "      <td>0.005503</td>\n",
       "      <td>-0.017622</td>\n",
       "      <td>0.107977</td>\n",
       "      <td>0.002797</td>\n",
       "      <td>0.109578</td>\n",
       "      <td>-0.157480</td>\n",
       "      <td>0.035174</td>\n",
       "      <td>0.271886</td>\n",
       "      <td>1.000000</td>\n",
       "      <td>-0.133265</td>\n",
       "      <td>0.052126</td>\n",
       "      <td>-0.094620</td>\n",
       "    </tr>\n",
       "    <tr>\n",
       "      <th>long</th>\n",
       "      <td>0.034395</td>\n",
       "      <td>0.023718</td>\n",
       "      <td>0.117168</td>\n",
       "      <td>0.217697</td>\n",
       "      <td>0.240170</td>\n",
       "      <td>0.224524</td>\n",
       "      <td>0.134683</td>\n",
       "      <td>-0.039227</td>\n",
       "      <td>-0.074630</td>\n",
       "      <td>-0.106514</td>\n",
       "      <td>0.201114</td>\n",
       "      <td>0.343715</td>\n",
       "      <td>-0.145909</td>\n",
       "      <td>0.410001</td>\n",
       "      <td>-0.073070</td>\n",
       "      <td>-0.560433</td>\n",
       "      <td>-0.133265</td>\n",
       "      <td>1.000000</td>\n",
       "      <td>0.327811</td>\n",
       "      <td>0.248391</td>\n",
       "    </tr>\n",
       "    <tr>\n",
       "      <th>sqft_living15</th>\n",
       "      <td>-0.001315</td>\n",
       "      <td>0.584829</td>\n",
       "      <td>0.376457</td>\n",
       "      <td>0.566076</td>\n",
       "      <td>0.758081</td>\n",
       "      <td>0.145285</td>\n",
       "      <td>0.289238</td>\n",
       "      <td>0.097196</td>\n",
       "      <td>0.292435</td>\n",
       "      <td>-0.080423</td>\n",
       "      <td>0.717835</td>\n",
       "      <td>0.726505</td>\n",
       "      <td>0.216220</td>\n",
       "      <td>0.326390</td>\n",
       "      <td>-0.003618</td>\n",
       "      <td>-0.279658</td>\n",
       "      <td>0.052126</td>\n",
       "      <td>0.327811</td>\n",
       "      <td>1.000000</td>\n",
       "      <td>0.185966</td>\n",
       "    </tr>\n",
       "    <tr>\n",
       "      <th>sqft_lot15</th>\n",
       "      <td>-0.137562</td>\n",
       "      <td>0.077960</td>\n",
       "      <td>0.018149</td>\n",
       "      <td>0.068722</td>\n",
       "      <td>0.163545</td>\n",
       "      <td>0.719922</td>\n",
       "      <td>-0.013269</td>\n",
       "      <td>0.028499</td>\n",
       "      <td>0.079904</td>\n",
       "      <td>0.002253</td>\n",
       "      <td>0.118618</td>\n",
       "      <td>0.185507</td>\n",
       "      <td>-0.007685</td>\n",
       "      <td>0.072152</td>\n",
       "      <td>-0.007260</td>\n",
       "      <td>-0.142375</td>\n",
       "      <td>-0.094620</td>\n",
       "      <td>0.248391</td>\n",
       "      <td>0.185966</td>\n",
       "      <td>1.000000</td>\n",
       "    </tr>\n",
       "  </tbody>\n",
       "</table>\n",
       "</div>"
      ],
      "text/plain": [
       "                     id     price  ...  sqft_living15  sqft_lot15\n",
       "id             1.000000 -0.006011  ...      -0.001315   -0.137562\n",
       "price         -0.006011  1.000000  ...       0.584829    0.077960\n",
       "bedrooms      -0.002571  0.300777  ...       0.376457    0.018149\n",
       "bathrooms      0.005821  0.527512  ...       0.566076    0.068722\n",
       "sqft_living   -0.007559  0.705044  ...       0.758081    0.163545\n",
       "sqft_lot      -0.130303  0.094146  ...       0.145285    0.719922\n",
       "floors         0.007793  0.262955  ...       0.289238   -0.013269\n",
       "waterfront     0.000834  0.274953  ...       0.097196    0.028499\n",
       "view           0.023355  0.399711  ...       0.292435    0.079904\n",
       "condition     -0.015321  0.044754  ...      -0.080423    0.002253\n",
       "grade          0.012491  0.665594  ...       0.717835    0.118618\n",
       "sqft_above    -0.006447  0.611450  ...       0.726505    0.185507\n",
       "sqft_basement -0.003660  0.322369  ...       0.216220   -0.007685\n",
       "yr_built       0.027053  0.051737  ...       0.326390    0.072152\n",
       "yr_renovated  -0.024900  0.120439  ...      -0.003618   -0.007260\n",
       "zipcode       -0.012130 -0.055619  ...      -0.279658   -0.142375\n",
       "lat            0.009167  0.299191  ...       0.052126   -0.094620\n",
       "long           0.034395  0.023718  ...       0.327811    0.248391\n",
       "sqft_living15 -0.001315  0.584829  ...       1.000000    0.185966\n",
       "sqft_lot15    -0.137562  0.077960  ...       0.185966    1.000000\n",
       "\n",
       "[20 rows x 20 columns]"
      ]
     },
     "execution_count": 3,
     "metadata": {
      "tags": []
     },
     "output_type": "execute_result"
    }
   ],
   "source": [
    "dataframe_train.corr()"
   ]
  },
  {
   "cell_type": "markdown",
   "metadata": {
    "colab_type": "text",
    "id": "wylO3yqLtmMJ"
   },
   "source": [
    "# **Co-relation heatmap**\n",
    "What is a heatmap?\n",
    "A heatmap is a two-dimensional graphical representation of data where the individual values that are contained in a matrix are represented as colors.\n",
    "Observation from heatmap\n",
    "From the heatmap we can see that attributes id(-0.01), sqft_lot\n",
    "(0.09), condition(0.04), yr_built(0.05), zipcode(-0.06), long(0.02) and sqft_lot15(0.08) have poor co-relation with price."
   ]
  },
  {
   "cell_type": "code",
   "execution_count": 4,
   "metadata": {
    "colab": {
     "base_uri": "https://localhost:8080/",
     "height": 1000
    },
    "colab_type": "code",
    "id": "AlDCDlpVqhsX",
    "outputId": "ed7c1628-dafa-4389-86e4-5ec475a23d25"
   },
   "outputs": [
    {
     "data": {
      "text/plain": [
       "<matplotlib.axes._subplots.AxesSubplot at 0x7f86198390b8>"
      ]
     },
     "execution_count": 4,
     "metadata": {
      "tags": []
     },
     "output_type": "execute_result"
    },
    {
     "data": {
      "image/png": "[encoded data removed]",
      "text/plain": [
       "<Figure size 1152x1152 with 2 Axes>"
      ]
     },
     "metadata": {
      "needs_background": "light",
      "tags": []
     },
     "output_type": "display_data"
    }
   ],
   "source": [
    "import seaborn as sns\n",
    "fig, ax = plt.subplots(figsize=(16, 16))\n",
    "correlation_matrix = dataframe_train.corr().round(2)\n",
    "sns.heatmap(data=correlation_matrix, annot=True,cmap=\"Set1\",linewidth=1.0)"
   ]
  },
  {
   "cell_type": "markdown",
   "metadata": {
    "colab_type": "text",
    "id": "sOlMtVshyEIT"
   },
   "source": [
    "# **Preparing Training Data**"
   ]
  },
  {
   "cell_type": "code",
   "execution_count": 5,
   "metadata": {
    "colab": {},
    "colab_type": "code",
    "id": "d_yExtGatZSm"
   },
   "outputs": [],
   "source": [
    "x_train = dataframe_train.iloc[:,[2,3,4,6,7,8,10,11,12,14,16,18]].values\n",
    "y_train = dataframe_train.iloc[:, [1]].values"
   ]
  },
  {
   "cell_type": "markdown",
   "metadata": {
    "colab_type": "text",
    "id": "3eMC2XpN0gXk"
   },
   "source": [
    "# **What is Polynomial Regression ?**\n",
    "Polynomial Regression is a form of linear regression in which the relationship between the independent variable x and dependent variable y is modeled as an nth degree polynomial. Polynomial regression fits a nonlinear relationship between the value of x and the corresponding conditional mean of y, denoted E(y |x).\n",
    "General equation is: \n",
    "y = a + b1x + b2x^2 +....+ bnx^n\n",
    "\n",
    "# **Why Polynomial Regression:**\n",
    "There are some relationships that a researcher will hypothesize is curvilinear. Clearly, such type of cases will include a polynomial term.\n",
    "Inspection of residuals. If we try to fit a linear model to curved data, a scatter plot of residuals (Y axis) on the predictor (X axis) will have patches of many positive residuals in the middle. Hence in such situation it is not appropriate.\n",
    "An assumption in usual multiple linear regression analysis is that all the independent variables are independent. In polynomial regression model, this assumption is not satisfied."
   ]
  },
  {
   "cell_type": "markdown",
   "metadata": {
    "colab_type": "text",
    "id": "8LqDaF3V14yE"
   },
   "source": [
    "# **Polynomial Regression Degree 1**"
   ]
  },
  {
   "cell_type": "code",
   "execution_count": 6,
   "metadata": {
    "colab": {
     "base_uri": "https://localhost:8080/",
     "height": 34
    },
    "colab_type": "code",
    "id": "VvQw8jKEuOVN",
    "outputId": "172ff69c-df68-4efd-cd71-ebfbb0a82f98"
   },
   "outputs": [
    {
     "data": {
      "text/plain": [
       "LinearRegression(copy_X=True, fit_intercept=True, n_jobs=None, normalize=False)"
      ]
     },
     "execution_count": 6,
     "metadata": {
      "tags": []
     },
     "output_type": "execute_result"
    }
   ],
   "source": [
    "from sklearn.preprocessing import PolynomialFeatures\n",
    "poly_reg_1 = PolynomialFeatures(degree=1)\n",
    "x_poly_train = poly_reg_1.fit_transform(x_train)\n",
    "from sklearn.linear_model import LinearRegression\n",
    "lin_reg_1=LinearRegression()\n",
    "lin_reg_1.fit(x_poly_train,y_train)"
   ]
  },
  {
   "cell_type": "markdown",
   "metadata": {
    "colab_type": "text",
    "id": "GUNztB-43DYU"
   },
   "source": [
    "# Accuracy score"
   ]
  },
  {
   "cell_type": "code",
   "execution_count": 7,
   "metadata": {
    "colab": {
     "base_uri": "https://localhost:8080/",
     "height": 34
    },
    "colab_type": "code",
    "id": "bx_oCPjY2LLW",
    "outputId": "3b6a2714-d5c6-410e-ed76-386856a8c7d2"
   },
   "outputs": [
    {
     "data": {
      "text/plain": [
       "0.6611468094715179"
      ]
     },
     "execution_count": 7,
     "metadata": {
      "tags": []
     },
     "output_type": "execute_result"
    }
   ],
   "source": [
    "x_test = dataframe_train.iloc[:,[2,3,4,6,7,8,10,11,12,14,16,18]].values\n",
    "y_test = dataframe_train.iloc[:, [1]].values\n",
    "x_poly_test = poly_reg_1.fit_transform(x_test)\n",
    "lin_reg_1.score(x_poly_test,y_test)"
   ]
  },
  {
   "cell_type": "markdown",
   "metadata": {
    "colab_type": "text",
    "id": "ppNi8aRl6teu"
   },
   "source": [
    "# **Polynomial Regression Degree 2**"
   ]
  },
  {
   "cell_type": "code",
   "execution_count": 8,
   "metadata": {
    "colab": {
     "base_uri": "https://localhost:8080/",
     "height": 34
    },
    "colab_type": "code",
    "id": "kNC95mXD5T7d",
    "outputId": "66eed515-38a1-49ed-c301-e6879c56857d"
   },
   "outputs": [
    {
     "data": {
      "text/plain": [
       "LinearRegression(copy_X=True, fit_intercept=True, n_jobs=None, normalize=False)"
      ]
     },
     "execution_count": 8,
     "metadata": {
      "tags": []
     },
     "output_type": "execute_result"
    }
   ],
   "source": [
    "poly_reg_2 = PolynomialFeatures(degree=2)\n",
    "x_poly_train = poly_reg_2.fit_transform(x_train)\n",
    "lin_reg_2=LinearRegression()\n",
    "lin_reg_2.fit(x_poly_train,y_train)"
   ]
  },
  {
   "cell_type": "markdown",
   "metadata": {
    "colab_type": "text",
    "id": "RzRviver66Im"
   },
   "source": [
    "# Accuracy score"
   ]
  },
  {
   "cell_type": "code",
   "execution_count": 9,
   "metadata": {
    "colab": {
     "base_uri": "https://localhost:8080/",
     "height": 34
    },
    "colab_type": "code",
    "id": "hQs3pTdf638f",
    "outputId": "8cad55d7-7d64-4fcb-fc67-017fa932d844"
   },
   "outputs": [
    {
     "data": {
      "text/plain": [
       "0.7737899378597638"
      ]
     },
     "execution_count": 9,
     "metadata": {
      "tags": []
     },
     "output_type": "execute_result"
    }
   ],
   "source": [
    "x_poly_test = poly_reg_2.fit_transform(x_test)\n",
    "lin_reg_2.score(x_poly_test,y_test)"
   ]
  },
  {
   "cell_type": "markdown",
   "metadata": {
    "colab_type": "text",
    "id": "vaqYNL5n70OQ"
   },
   "source": [
    "# **Polynomial Regression Degree 3**"
   ]
  },
  {
   "cell_type": "code",
   "execution_count": 10,
   "metadata": {
    "colab": {
     "base_uri": "https://localhost:8080/",
     "height": 34
    },
    "colab_type": "code",
    "id": "u8rsiLXz7RKw",
    "outputId": "5a2267a9-f7bf-46e2-f1e7-10b0db41fc6c"
   },
   "outputs": [
    {
     "data": {
      "text/plain": [
       "LinearRegression(copy_X=True, fit_intercept=True, n_jobs=None, normalize=False)"
      ]
     },
     "execution_count": 10,
     "metadata": {
      "tags": []
     },
     "output_type": "execute_result"
    }
   ],
   "source": [
    "poly_reg_3 = PolynomialFeatures(degree=3)\n",
    "x_poly_train = poly_reg_3.fit_transform(x_train)\n",
    "lin_reg_3=LinearRegression()\n",
    "lin_reg_3.fit(x_poly_train,y_train)"
   ]
  },
  {
   "cell_type": "markdown",
   "metadata": {
    "colab_type": "text",
    "id": "3QWvPwGV8A3o"
   },
   "source": [
    "# Accuracy score"
   ]
  },
  {
   "cell_type": "code",
   "execution_count": 11,
   "metadata": {
    "colab": {
     "base_uri": "https://localhost:8080/",
     "height": 34
    },
    "colab_type": "code",
    "id": "y9z4-szu8AGk",
    "outputId": "7cec0d4c-549d-41a0-aa00-c33de1039bba"
   },
   "outputs": [
    {
     "data": {
      "text/plain": [
       "0.8226970545024656"
      ]
     },
     "execution_count": 11,
     "metadata": {
      "tags": []
     },
     "output_type": "execute_result"
    }
   ],
   "source": [
    "x_poly_test = poly_reg_3.fit_transform(x_test)\n",
    "lin_reg_3.score(x_poly_test,y_test)"
   ]
  },
  {
   "cell_type": "markdown",
   "metadata": {
    "colab_type": "text",
    "id": "ZldUP2aoqe6T"
   },
   "source": [
    "# **Polynomial Regression Degree 4**"
   ]
  },
  {
   "cell_type": "code",
   "execution_count": 12,
   "metadata": {
    "colab": {
     "base_uri": "https://localhost:8080/",
     "height": 34
    },
    "colab_type": "code",
    "id": "SpdZ1riR8Fub",
    "outputId": "5d92bd6a-55c4-4e03-cb87-aee407102b41"
   },
   "outputs": [
    {
     "data": {
      "text/plain": [
       "LinearRegression(copy_X=True, fit_intercept=True, n_jobs=None, normalize=False)"
      ]
     },
     "execution_count": 12,
     "metadata": {
      "tags": []
     },
     "output_type": "execute_result"
    }
   ],
   "source": [
    "poly_reg_4 = PolynomialFeatures(degree=4)\n",
    "x_poly_train = poly_reg_4.fit_transform(x_train)\n",
    "lin_reg_4=LinearRegression()\n",
    "lin_reg_4.fit(x_poly_train,y_train)"
   ]
  },
  {
   "cell_type": "markdown",
   "metadata": {
    "colab_type": "text",
    "id": "1maBdm7XqjDE"
   },
   "source": [
    "# Accuracy score"
   ]
  },
  {
   "cell_type": "code",
   "execution_count": 13,
   "metadata": {
    "colab": {
     "base_uri": "https://localhost:8080/",
     "height": 34
    },
    "colab_type": "code",
    "id": "7gQELRToobag",
    "outputId": "a49fda0c-0d62-41ac-b29e-140dbbe71297"
   },
   "outputs": [
    {
     "data": {
      "text/plain": [
       "0.8629620522770717"
      ]
     },
     "execution_count": 13,
     "metadata": {
      "tags": []
     },
     "output_type": "execute_result"
    }
   ],
   "source": [
    "x_poly_test = poly_reg_4.fit_transform(x_test)\n",
    "lin_reg_4.score(x_poly_test,y_test)"
   ]
  },
  {
   "cell_type": "markdown",
   "metadata": {
    "colab_type": "text",
    "id": "DC-Op1SowBIm"
   },
   "source": [
    "**Conclusion**\n",
    "From above we can conclude that degree 4 polynomial regression is giving best accuracy score of 0.86."
   ]
  }
 ],
 "metadata": {
  "colab": {
   "name": "Task - 1 (poly).ipynb",
   "provenance": [],
   "toc_visible": true
  },
  "kernelspec": {
   "display_name": "Python 3",
   "language": "python",
   "name": "python3"
  },
  "language_info": {
   "codemirror_mode": {
    "name": "ipython",
    "version": 3
   },
   "file_extension": ".py",
   "mimetype": "text/x-python",
   "name": "python",
   "nbconvert_exporter": "python",
   "pygments_lexer": "ipython3",
   "version": "3.6.8"
  }
 },
 "nbformat": 4,
 "nbformat_minor": 1
}
